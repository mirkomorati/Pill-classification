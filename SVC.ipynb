{
 "cells": [
  {
   "cell_type": "code",
   "execution_count": 15,
   "metadata": {
    "tags": []
   },
   "outputs": [],
   "source": [
    "# importing The NDC9 as labels\n",
    "from pathlib import Path\n",
    "import xml.etree.ElementTree as ET\n",
    "\n",
    "train_imgs_dir = Path('utils/Dataset/merge')\n",
    "\n",
    "try:\n",
    "    tree = ET.parse(train_imgs_dir / 'images.xml')\n",
    "except ET.ParseError:\n",
    "    print('Parse error on {}'.format(train_imgs_dir / 'images.xml'))\n",
    "    exit(-1)\n",
    "\n",
    "se = list(tree.getroot())[0]\n",
    "\n",
    "labels_set = set()\n",
    "for e in list(se):\n",
    "    labels_set.add(e.find('NDC9').text)\n",
    "\n",
    "labels = sorted(list(labels_set))"
   ]
  },
  {
   "cell_type": "code",
   "execution_count": 28,
   "metadata": {
    "tags": []
   },
   "outputs": [
    {
     "output_type": "stream",
     "name": "stdout",
     "text": "(500, 10)\n(500,)\n"
    }
   ],
   "source": [
    "import numpy as np\n",
    "# feature extraction and labeling \n",
    "train = (np.zeros((len(list(se)), 10)), \n",
    "        np.random.randint(0, len(labels), size=(len(list(se),) ) ) )\n",
    "\n",
    "print(train[0].shape)\n",
    "print(train[1].shape)"
   ]
  },
  {
   "cell_type": "code",
   "execution_count": 31,
   "metadata": {
    "tags": []
   },
   "outputs": [
    {
     "output_type": "stream",
     "name": "stdout",
     "text": "trained\n"
    }
   ],
   "source": [
    "# now that I have the number of labels I can create the svm classifier\n",
    "from sklearn.svm import SVC\n",
    "\n",
    "kernel = 'linear'\n",
    "max_iteration = 10\n",
    "\n",
    "models = []\n",
    "for i in range(len(labels)):\n",
    "    models.append(SVC(kernel=kernel, max_iter=max_iteration, probability=True))\n",
    "\n",
    "for i in range(len(labels)):\n",
    "    models[i].fit(train[0], train[1] == i) # training \n",
    "\n",
    "print('trained')"
   ]
  },
  {
   "cell_type": "code",
   "execution_count": null,
   "metadata": {},
   "outputs": [],
   "source": []
  }
 ],
 "metadata": {
  "language_info": {
   "codemirror_mode": {
    "name": "ipython",
    "version": 3
   },
   "file_extension": ".py",
   "mimetype": "text/x-python",
   "name": "python",
   "nbconvert_exporter": "python",
   "pygments_lexer": "ipython3",
   "version": "3.8.2-final"
  },
  "orig_nbformat": 2,
  "kernelspec": {
   "name": "python38264bitenvvenv90e90af3186d458abb0ccf4b86cbad07",
   "display_name": "Python 3.8.2 64-bit ('env': venv)"
  }
 },
 "nbformat": 4,
 "nbformat_minor": 2
}